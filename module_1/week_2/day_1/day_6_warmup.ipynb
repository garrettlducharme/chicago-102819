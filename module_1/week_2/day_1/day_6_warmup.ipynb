{
 "cells": [
  {
   "cell_type": "code",
   "execution_count": null,
   "metadata": {},
   "outputs": [],
   "source": [
    "#Survival Game Inventory\n",
    "#The below code has been broken by Code Gremlins! Undo their handy work and print the \n",
    "#correct output below.\n",
    "\n",
    "\n",
    "invent = {'sword': 1, 'torch': 6, 'gold coin': 42,\n",
    "         'dagger': 1, 'arrow': 12, 'map fragments': 3}\n",
    "\n",
    "\n",
    "def display_inventory(inventory):\n",
    "    \"\"\"Print contents and total number of items in inventory.\"\"\"\n",
    "    print('Inventory:')\n",
    "    for k, v in inventory():\n",
    "        print(str(v) + ' ' + k)\n",
    "    print('Total number of items : ' + str(item_total))\n",
    "\n",
    "\n",
    "display_inventory(invent)\n",
    "\n",
    "print()   \n",
    "\n",
    "def add_to_inventory():\n",
    "    \"\"\"Combine a list of loot with an inventory.\"\"\"\n",
    "    for loot in added_items:\n",
    "        inventory_setdefault(loot, 0)\n",
    "    return(inventory)\n",
    "\n",
    "\n",
    "inv = {'gold coin': 42, 'rope': 1}\n",
    "dragon_loot = ['gold coin', 'dagger', 'gold coin', 'gold coin', 'ruby']\n",
    "inv = add_to_inventory(inv, dragon_loot)\n",
    "display_inventory(inv)"
   ]
  },
  {
   "cell_type": "markdown",
   "metadata": {},
   "source": [
    "CORRECT OUPUT:\n",
    "----------------------\n",
    "\n",
    "Inventory:\n",
    "1 rope\n",
    "6 torch\n",
    "42 gold coin\n",
    "1 dagger\n",
    "12 arrow\n",
    "3 map fragments\n",
    "Total number of items : 65\n",
    "\n",
    "Inventory:\n",
    "45 gold coin\n",
    "1 rope\n",
    "1 dagger\n",
    "1 ruby\n",
    "Total number of items : 48"
   ]
  }
 ],
 "metadata": {
  "kernelspec": {
   "display_name": "Python 3",
   "language": "python",
   "name": "python3"
  },
  "language_info": {
   "codemirror_mode": {
    "name": "ipython",
    "version": 3
   },
   "file_extension": ".py",
   "mimetype": "text/x-python",
   "name": "python",
   "nbconvert_exporter": "python",
   "pygments_lexer": "ipython3",
   "version": "3.7.3"
  }
 },
 "nbformat": 4,
 "nbformat_minor": 4
}
