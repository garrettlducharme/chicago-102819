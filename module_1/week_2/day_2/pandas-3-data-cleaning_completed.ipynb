{
 "cells": [
  {
   "cell_type": "markdown",
   "metadata": {},
   "source": [
    "# Data Cleaning with Pandas"
   ]
  },
  {
   "cell_type": "markdown",
   "metadata": {},
   "source": [
    "## Scenario\n",
    "\n",
    "As data scientists, we want to build a model to predict the sale price of a house in Seattle in 2019, based on its square footage. We know that the King County Department of Assessments has comprehensive data available on real property sales in the Seattle area. We need to prepare the data."
   ]
  },
  {
   "cell_type": "code",
   "execution_count": 2,
   "metadata": {},
   "outputs": [],
   "source": [
    "import pandas as pd"
   ]
  },
  {
   "cell_type": "markdown",
   "metadata": {},
   "source": [
    "### Learning Goals:\n",
    "\n",
    "- practice cleaning a real dataset\n",
    "- practice using `py` files and the terminal in conjunction with jupyter notebooks\n",
    "- run a `py` script through the terminal"
   ]
  },
  {
   "cell_type": "code",
   "execution_count": 3,
   "metadata": {},
   "outputs": [
    {
     "name": "stdout",
     "output_type": "stream",
     "text": [
      "/Users/ssadalgekar/Desktop/chi-102819/chicago-102819/module_1/week_2/day_2\r\n"
     ]
    }
   ],
   "source": [
    "!pwd"
   ]
  },
  {
   "cell_type": "markdown",
   "metadata": {},
   "source": [
    "### First, get the data!\n",
    "\n",
    "When working on a project involving data that can fit on our computer, we store it in a `data` directory.\n",
    "\n",
    "```bash\n",
    "cd <project_directory>  # example: cd ~/flatiron_ds/pandas-3\n",
    "mkdir data\n",
    "cd data\n",
    "```\n",
    "\n",
    "Note that `<project_directory>` in angle brackets is a _placeholder_. You should type the path to the actual location on your computer where you're working on this project. Do not literally type `<project_directory>` and _do not type the angle brackets_. You can see an example in the _comment_ to the right of the command above."
   ]
  },
  {
   "cell_type": "markdown",
   "metadata": {},
   "source": [
    "![terminal](https://media3.giphy.com/media/yR4xZagT71AAM/giphy.gif?cid=790b76115d3620444553533759086a54&rid=giphy.gif)\n",
    "\n",
    "Now, we'll need to download the two data files that we need. We can do this at the command line:\n",
    "\n",
    "```bash\n",
    "wget https://aqua.kingcounty.gov/extranet/assessor/Real%20Property%20Sales.zip\n",
    "wget https://aqua.kingcounty.gov/extranet/assessor/Residential%20Building.zip\n",
    "```\n",
    "\n",
    "*Note:* If you do not have the `wget` command yet, you can install it with `brew install wget`, or use `curl <url> -o <filename>`.\n",
    "\n",
    "Note that `%20` in a URL translates into a space. Even though you will *never put spaces in filenames*, you may need to deal with spaces that _other_ people have used in filenames.\n",
    "\n",
    "There are two ways to handle the spaces in these filenames when referencing them at the command line.\n",
    "\n",
    "\n",
    "![internetgif](https://media2.giphy.com/media/QWkuGmMgphvmE/giphy.gif?cid=790b76115d361f42304a6850369f37ea&rid=giphy.gif)"
   ]
  },
  {
   "cell_type": "markdown",
   "metadata": {},
   "source": [
    "#### 1. You can _escape_ the spaces by putting a backslash (`\\`, remember _backslash is next to backspace_) before each one:\n",
    "\n",
    "`unzip Real\\ Property\\ Sales.zip`\n",
    "\n",
    "This is what happens if you tab-complete the filename in the terminal. Tab completion is your friend!"
   ]
  },
  {
   "cell_type": "markdown",
   "metadata": {},
   "source": [
    "#### 2. You can put the entire filename in quotes:\n",
    "\n",
    "`unzip \"Real Property Sales.zip\"`\n",
    "\n",
    "Try unzipping these files with the `unzip` command. The `unzip` command takes one argument, the name of the file that you want to unzip."
   ]
  },
  {
   "cell_type": "code",
   "execution_count": 4,
   "metadata": {},
   "outputs": [
    {
     "name": "stdout",
     "output_type": "stream",
     "text": [
      "/Users/ssadalgekar/Desktop/chi-102819/chicago-102819/module_1/week_2/day_2\r\n"
     ]
    }
   ],
   "source": [
    "!pwd"
   ]
  },
  {
   "cell_type": "code",
   "execution_count": 5,
   "metadata": {
    "scrolled": true
   },
   "outputs": [
    {
     "name": "stderr",
     "output_type": "stream",
     "text": [
      "//anaconda3/lib/python3.7/site-packages/IPython/core/interactiveshell.py:3057: DtypeWarning: Columns (1,2) have mixed types. Specify dtype option on import or set low_memory=False.\n",
      "  interactivity=interactivity, compiler=compiler, result=result)\n"
     ]
    }
   ],
   "source": [
    "sales_df = pd.read_csv('data/EXTR_RPSale.csv')"
   ]
  },
  {
   "cell_type": "markdown",
   "metadata": {},
   "source": [
    "### Seeing pink? Warnings are useful!\n",
    "\n",
    "Note the warning above: `DtypeWarning: Columns (1, 2) have mixed types.` Because we start with an index of zero, the columns that we're being warned about are actually the _second_ and _third_ columns, `sales_df['Major']` and `sales_df['Minor']`."
   ]
  },
  {
   "cell_type": "code",
   "execution_count": 6,
   "metadata": {},
   "outputs": [
    {
     "data": {
      "text/plain": [
       "ExciseTaxNbr           int64\n",
       "Major                 object\n",
       "Minor                 object\n",
       "DocumentDate          object\n",
       "SalePrice              int64\n",
       "RecordingNbr          object\n",
       "Volume                object\n",
       "Page                  object\n",
       "PlatNbr               object\n",
       "PlatType              object\n",
       "PlatLot               object\n",
       "PlatBlock             object\n",
       "SellerName            object\n",
       "BuyerName             object\n",
       "PropertyType           int64\n",
       "PrincipalUse           int64\n",
       "SaleInstrument         int64\n",
       "AFForestLand          object\n",
       "AFCurrentUseLand      object\n",
       "AFNonProfitUse        object\n",
       "AFHistoricProperty    object\n",
       "SaleReason             int64\n",
       "PropertyClass          int64\n",
       "SaleWarning           object\n",
       "dtype: object"
      ]
     },
     "execution_count": 6,
     "metadata": {},
     "output_type": "execute_result"
    }
   ],
   "source": [
    "sales_df.dtypes"
   ]
  },
  {
   "cell_type": "code",
   "execution_count": 7,
   "metadata": {
    "scrolled": true
   },
   "outputs": [
    {
     "data": {
      "text/html": [
       "<div>\n",
       "<style scoped>\n",
       "    .dataframe tbody tr th:only-of-type {\n",
       "        vertical-align: middle;\n",
       "    }\n",
       "\n",
       "    .dataframe tbody tr th {\n",
       "        vertical-align: top;\n",
       "    }\n",
       "\n",
       "    .dataframe thead th {\n",
       "        text-align: right;\n",
       "    }\n",
       "</style>\n",
       "<table border=\"1\" class=\"dataframe\">\n",
       "  <thead>\n",
       "    <tr style=\"text-align: right;\">\n",
       "      <th></th>\n",
       "      <th>ExciseTaxNbr</th>\n",
       "      <th>Major</th>\n",
       "      <th>Minor</th>\n",
       "      <th>DocumentDate</th>\n",
       "      <th>SalePrice</th>\n",
       "      <th>RecordingNbr</th>\n",
       "      <th>Volume</th>\n",
       "      <th>Page</th>\n",
       "      <th>PlatNbr</th>\n",
       "      <th>PlatType</th>\n",
       "      <th>...</th>\n",
       "      <th>PropertyType</th>\n",
       "      <th>PrincipalUse</th>\n",
       "      <th>SaleInstrument</th>\n",
       "      <th>AFForestLand</th>\n",
       "      <th>AFCurrentUseLand</th>\n",
       "      <th>AFNonProfitUse</th>\n",
       "      <th>AFHistoricProperty</th>\n",
       "      <th>SaleReason</th>\n",
       "      <th>PropertyClass</th>\n",
       "      <th>SaleWarning</th>\n",
       "    </tr>\n",
       "  </thead>\n",
       "  <tbody>\n",
       "    <tr>\n",
       "      <th>0</th>\n",
       "      <td>2687551</td>\n",
       "      <td>138860</td>\n",
       "      <td>110</td>\n",
       "      <td>08/21/2014</td>\n",
       "      <td>245000</td>\n",
       "      <td>20140828001436</td>\n",
       "      <td></td>\n",
       "      <td></td>\n",
       "      <td></td>\n",
       "      <td></td>\n",
       "      <td>...</td>\n",
       "      <td>3</td>\n",
       "      <td>6</td>\n",
       "      <td>3</td>\n",
       "      <td>N</td>\n",
       "      <td>N</td>\n",
       "      <td>N</td>\n",
       "      <td>N</td>\n",
       "      <td>1</td>\n",
       "      <td>8</td>\n",
       "      <td></td>\n",
       "    </tr>\n",
       "    <tr>\n",
       "      <th>1</th>\n",
       "      <td>1235111</td>\n",
       "      <td>664885</td>\n",
       "      <td>40</td>\n",
       "      <td>07/09/1991</td>\n",
       "      <td>0</td>\n",
       "      <td>199203161090</td>\n",
       "      <td>071</td>\n",
       "      <td>001</td>\n",
       "      <td>664885</td>\n",
       "      <td>C</td>\n",
       "      <td>...</td>\n",
       "      <td>3</td>\n",
       "      <td>0</td>\n",
       "      <td>26</td>\n",
       "      <td>N</td>\n",
       "      <td>N</td>\n",
       "      <td>N</td>\n",
       "      <td>N</td>\n",
       "      <td>18</td>\n",
       "      <td>3</td>\n",
       "      <td>11</td>\n",
       "    </tr>\n",
       "    <tr>\n",
       "      <th>2</th>\n",
       "      <td>2704079</td>\n",
       "      <td>423943</td>\n",
       "      <td>50</td>\n",
       "      <td>10/11/2014</td>\n",
       "      <td>0</td>\n",
       "      <td>20141205000558</td>\n",
       "      <td></td>\n",
       "      <td></td>\n",
       "      <td></td>\n",
       "      <td></td>\n",
       "      <td>...</td>\n",
       "      <td>3</td>\n",
       "      <td>6</td>\n",
       "      <td>15</td>\n",
       "      <td>N</td>\n",
       "      <td>N</td>\n",
       "      <td>N</td>\n",
       "      <td>N</td>\n",
       "      <td>18</td>\n",
       "      <td>8</td>\n",
       "      <td>18 31 51</td>\n",
       "    </tr>\n",
       "    <tr>\n",
       "      <th>3</th>\n",
       "      <td>2584094</td>\n",
       "      <td>403700</td>\n",
       "      <td>715</td>\n",
       "      <td>01/04/2013</td>\n",
       "      <td>0</td>\n",
       "      <td>20130110000910</td>\n",
       "      <td></td>\n",
       "      <td></td>\n",
       "      <td></td>\n",
       "      <td></td>\n",
       "      <td>...</td>\n",
       "      <td>3</td>\n",
       "      <td>6</td>\n",
       "      <td>15</td>\n",
       "      <td>N</td>\n",
       "      <td>N</td>\n",
       "      <td>N</td>\n",
       "      <td>N</td>\n",
       "      <td>11</td>\n",
       "      <td>8</td>\n",
       "      <td>18 31 38</td>\n",
       "    </tr>\n",
       "    <tr>\n",
       "      <th>4</th>\n",
       "      <td>1056831</td>\n",
       "      <td>951120</td>\n",
       "      <td>900</td>\n",
       "      <td>04/20/1989</td>\n",
       "      <td>85000</td>\n",
       "      <td>198904260448</td>\n",
       "      <td>117</td>\n",
       "      <td>053</td>\n",
       "      <td>951120</td>\n",
       "      <td>P</td>\n",
       "      <td>...</td>\n",
       "      <td>3</td>\n",
       "      <td>0</td>\n",
       "      <td>2</td>\n",
       "      <td>N</td>\n",
       "      <td>N</td>\n",
       "      <td>N</td>\n",
       "      <td>N</td>\n",
       "      <td>1</td>\n",
       "      <td>9</td>\n",
       "      <td>49</td>\n",
       "    </tr>\n",
       "  </tbody>\n",
       "</table>\n",
       "<p>5 rows × 24 columns</p>\n",
       "</div>"
      ],
      "text/plain": [
       "   ExciseTaxNbr   Major Minor DocumentDate  SalePrice    RecordingNbr Volume  \\\n",
       "0       2687551  138860   110   08/21/2014     245000  20140828001436          \n",
       "1       1235111  664885    40   07/09/1991          0  199203161090      071   \n",
       "2       2704079  423943    50   10/11/2014          0  20141205000558          \n",
       "3       2584094  403700   715   01/04/2013          0  20130110000910          \n",
       "4       1056831  951120   900   04/20/1989      85000  198904260448      117   \n",
       "\n",
       "  Page PlatNbr PlatType  ... PropertyType PrincipalUse SaleInstrument  \\\n",
       "0                        ...            3            6              3   \n",
       "1  001  664885        C  ...            3            0             26   \n",
       "2                        ...            3            6             15   \n",
       "3                        ...            3            6             15   \n",
       "4  053  951120        P  ...            3            0              2   \n",
       "\n",
       "  AFForestLand  AFCurrentUseLand  AFNonProfitUse  AFHistoricProperty  \\\n",
       "0            N                 N               N                   N   \n",
       "1            N                 N               N                   N   \n",
       "2            N                 N               N                   N   \n",
       "3            N                 N               N                   N   \n",
       "4            N                 N               N                   N   \n",
       "\n",
       "  SaleReason PropertyClass SaleWarning  \n",
       "0          1             8              \n",
       "1         18             3          11  \n",
       "2         18             8    18 31 51  \n",
       "3         11             8    18 31 38  \n",
       "4          1             9          49  \n",
       "\n",
       "[5 rows x 24 columns]"
      ]
     },
     "execution_count": 7,
     "metadata": {},
     "output_type": "execute_result"
    }
   ],
   "source": [
    "sales_df.head()"
   ]
  },
  {
   "cell_type": "markdown",
   "metadata": {},
   "source": [
    "### Data overload?\n",
    "\n",
    "That's a lot of columns. We're only interested in identifying the date, sale price, and square footage of each specific property. What can we do?"
   ]
  },
  {
   "cell_type": "code",
   "execution_count": 8,
   "metadata": {},
   "outputs": [],
   "source": [
    "sales_df = sales_df[['Major','Minor','DocumentDate','SalePrice']]"
   ]
  },
  {
   "cell_type": "code",
   "execution_count": 10,
   "metadata": {},
   "outputs": [
    {
     "name": "stdout",
     "output_type": "stream",
     "text": [
      "<class 'pandas.core.frame.DataFrame'>\n",
      "RangeIndex: 2053214 entries, 0 to 2053213\n",
      "Data columns (total 4 columns):\n",
      "Major           object\n",
      "Minor           object\n",
      "DocumentDate    object\n",
      "SalePrice       int64\n",
      "dtypes: int64(1), object(3)\n",
      "memory usage: 62.7+ MB\n"
     ]
    }
   ],
   "source": [
    "sales_df.info()"
   ]
  },
  {
   "cell_type": "code",
   "execution_count": 11,
   "metadata": {
    "scrolled": true
   },
   "outputs": [
    {
     "name": "stderr",
     "output_type": "stream",
     "text": [
      "//anaconda3/lib/python3.7/site-packages/IPython/core/interactiveshell.py:3057: DtypeWarning: Columns (11) have mixed types. Specify dtype option on import or set low_memory=False.\n",
      "  interactivity=interactivity, compiler=compiler, result=result)\n"
     ]
    }
   ],
   "source": [
    "bldg_df = pd.read_csv('data/EXTR_ResBldg.csv')"
   ]
  },
  {
   "cell_type": "code",
   "execution_count": 12,
   "metadata": {},
   "outputs": [
    {
     "data": {
      "text/plain": [
       "Index(['Major', 'Minor', 'BldgNbr', 'NbrLivingUnits', 'Address',\n",
       "       'BuildingNumber', 'Fraction', 'DirectionPrefix', 'StreetName',\n",
       "       'StreetType', 'DirectionSuffix', 'ZipCode', 'Stories', 'BldgGrade',\n",
       "       'BldgGradeVar', 'SqFt1stFloor', 'SqFtHalfFloor', 'SqFt2ndFloor',\n",
       "       'SqFtUpperFloor', 'SqFtUnfinFull', 'SqFtUnfinHalf', 'SqFtTotLiving',\n",
       "       'SqFtTotBasement', 'SqFtFinBasement', 'FinBasementGrade',\n",
       "       'SqFtGarageBasement', 'SqFtGarageAttached', 'DaylightBasement',\n",
       "       'SqFtOpenPorch', 'SqFtEnclosedPorch', 'SqFtDeck', 'HeatSystem',\n",
       "       'HeatSource', 'BrickStone', 'ViewUtilization', 'Bedrooms',\n",
       "       'BathHalfCount', 'Bath3qtrCount', 'BathFullCount', 'FpSingleStory',\n",
       "       'FpMultiStory', 'FpFreestanding', 'FpAdditional', 'YrBuilt',\n",
       "       'YrRenovated', 'PcntComplete', 'Obsolescence', 'PcntNetCondition',\n",
       "       'Condition', 'AddnlCost'],\n",
       "      dtype='object')"
      ]
     },
     "execution_count": 12,
     "metadata": {},
     "output_type": "execute_result"
    }
   ],
   "source": [
    "bldg_df.columns"
   ]
  },
  {
   "cell_type": "markdown",
   "metadata": {},
   "source": [
    "### Another warning! Which column has index 11?"
   ]
  },
  {
   "cell_type": "code",
   "execution_count": 13,
   "metadata": {},
   "outputs": [
    {
     "data": {
      "text/plain": [
       "'ZipCode'"
      ]
     },
     "execution_count": 13,
     "metadata": {},
     "output_type": "execute_result"
    }
   ],
   "source": [
    "bldg_df.columns[11]"
   ]
  },
  {
   "cell_type": "markdown",
   "metadata": {},
   "source": [
    "`ZipCode` seems like a potentially useful column. We'll need it to determine which house sales took place in Seattle."
   ]
  },
  {
   "cell_type": "code",
   "execution_count": 51,
   "metadata": {
    "scrolled": true
   },
   "outputs": [
    {
     "data": {
      "text/plain": [
       "Major             int64\n",
       "Minor             int64\n",
       "SqFtTotLiving     int64\n",
       "ZipCode          object\n",
       "dtype: object"
      ]
     },
     "execution_count": 51,
     "metadata": {},
     "output_type": "execute_result"
    }
   ],
   "source": [
    "bldg_df.dtypes"
   ]
  },
  {
   "cell_type": "markdown",
   "metadata": {},
   "source": [
    "### So many features!\n",
    "\n",
    "As data scientists, we should be _very_ cautious about discarding potentially useful data. But, today, we're interested in _only_ the total square footage of each property. What can we do?\n"
   ]
  },
  {
   "cell_type": "code",
   "execution_count": 16,
   "metadata": {},
   "outputs": [],
   "source": [
    "bldg_df = bldg_df[['Major', 'Minor','SqFtTotLiving', 'ZipCode']]"
   ]
  },
  {
   "cell_type": "code",
   "execution_count": 17,
   "metadata": {
    "scrolled": true
   },
   "outputs": [
    {
     "name": "stdout",
     "output_type": "stream",
     "text": [
      "<class 'pandas.core.frame.DataFrame'>\n",
      "RangeIndex: 514534 entries, 0 to 514533\n",
      "Data columns (total 4 columns):\n",
      "Major            514534 non-null int64\n",
      "Minor            514534 non-null int64\n",
      "SqFtTotLiving    514534 non-null int64\n",
      "ZipCode          468661 non-null object\n",
      "dtypes: int64(3), object(1)\n",
      "memory usage: 15.7+ MB\n"
     ]
    }
   ],
   "source": [
    "bldg_df.info()"
   ]
  },
  {
   "cell_type": "code",
   "execution_count": 18,
   "metadata": {},
   "outputs": [
    {
     "name": "stdout",
     "output_type": "stream",
     "text": [
      "<class 'pandas.core.frame.DataFrame'>\n",
      "RangeIndex: 2053214 entries, 0 to 2053213\n",
      "Data columns (total 4 columns):\n",
      "Major           object\n",
      "Minor           object\n",
      "DocumentDate    object\n",
      "SalePrice       int64\n",
      "dtypes: int64(1), object(3)\n",
      "memory usage: 62.7+ MB\n"
     ]
    }
   ],
   "source": [
    "sales_df.info()"
   ]
  },
  {
   "cell_type": "code",
   "execution_count": 19,
   "metadata": {},
   "outputs": [],
   "source": [
    "sales_data = pd.merge(sales_df,bldg_df , on = ['Major', 'Minor'])"
   ]
  },
  {
   "cell_type": "code",
   "execution_count": 20,
   "metadata": {},
   "outputs": [
    {
     "name": "stdout",
     "output_type": "stream",
     "text": [
      "<class 'pandas.core.frame.DataFrame'>\n",
      "Int64Index: 1421106 entries, 0 to 1421105\n",
      "Data columns (total 6 columns):\n",
      "Major            1421106 non-null object\n",
      "Minor            1421106 non-null object\n",
      "DocumentDate     1421106 non-null object\n",
      "SalePrice        1421106 non-null int64\n",
      "SqFtTotLiving    1421106 non-null int64\n",
      "ZipCode          1301705 non-null object\n",
      "dtypes: int64(2), object(4)\n",
      "memory usage: 75.9+ MB\n"
     ]
    }
   ],
   "source": [
    "sales_data.info()"
   ]
  },
  {
   "cell_type": "markdown",
   "metadata": {},
   "source": [
    "### Error!\n",
    "\n",
    "Why are we seeing an error when we try to join the dataframes?\n",
    "\n",
    "<table>\n",
    "    <tr>\n",
    "        <td style=\"text-align:left\"><pre>\n",
    "<class 'pandas.core.frame.DataFrame'>\n",
    "RangeIndex: 2013160 entries, 0 to 2013159\n",
    "Data columns (total 4 columns):\n",
    "Major           object\n",
    "Minor           object\n",
    "DocumentDate    object\n",
    "SalePrice       int64\n",
    "dtypes: int64(1), object(3)\n",
    "memory usage: 61.4+ MB</pre></td>\n",
    "        <td style=\"text-align:left\"><pre>\n",
    "<class 'pandas.core.frame.DataFrame'>\n",
    "RangeIndex: 511359 entries, 0 to 511358\n",
    "Data columns (total 4 columns):\n",
    "Major            511359 non-null int64\n",
    "Minor            511359 non-null int64\n",
    "SqFtTotLiving    511359 non-null int64\n",
    "ZipCode          468345 non-null object\n",
    "dtypes: int64(3), object(1)\n",
    "memory usage: 15.6+ MB\n",
    "</pre></td>\n",
    "    </tr>\n",
    "</table>\n",
    "\n",
    "Review the error message in light of the above:\n",
    "\n",
    "* `ValueError: You are trying to merge on object and int64 columns.`"
   ]
  },
  {
   "cell_type": "code",
   "execution_count": 21,
   "metadata": {},
   "outputs": [],
   "source": [
    "sales_df['Major'] = pd.to_numeric(sales_df['Major'], errors ='coerce')"
   ]
  },
  {
   "cell_type": "code",
   "execution_count": 22,
   "metadata": {},
   "outputs": [
    {
     "name": "stdout",
     "output_type": "stream",
     "text": [
      "<class 'pandas.core.frame.DataFrame'>\n",
      "RangeIndex: 2053214 entries, 0 to 2053213\n",
      "Data columns (total 4 columns):\n",
      "Major           float64\n",
      "Minor           object\n",
      "DocumentDate    object\n",
      "SalePrice       int64\n",
      "dtypes: float64(1), int64(1), object(2)\n",
      "memory usage: 62.7+ MB\n"
     ]
    }
   ],
   "source": [
    "sales_df.info()"
   ]
  },
  {
   "cell_type": "markdown",
   "metadata": {},
   "source": [
    "### Error!\n",
    "\n",
    "Note the useful error message above:\n",
    "\n",
    "`ValueError: Unable to parse string \"      \" at position 936643`\n",
    "\n",
    "In this case, we want to treat non-numeric values as missing values. Let's see if there's a way to change how the `pd.to_numeric` function handles errors."
   ]
  },
  {
   "cell_type": "code",
   "execution_count": null,
   "metadata": {},
   "outputs": [],
   "source": [
    "# The single question mark means \"show me the docstring\"\n",
    "pd.to_numeric?"
   ]
  },
  {
   "cell_type": "markdown",
   "metadata": {},
   "source": [
    "Here's the part that we're looking for:\n",
    "```\n",
    "errors : {'ignore', 'raise', 'coerce'}, default 'raise'\n",
    "    - If 'raise', then invalid parsing will raise an exception\n",
    "    - If 'coerce', then invalid parsing will be set as NaN\n",
    "    - If 'ignore', then invalid parsing will return the input\n",
    "```\n",
    "\n",
    "Let's try setting the `errors` parameter to `'coerce'`."
   ]
  },
  {
   "cell_type": "code",
   "execution_count": null,
   "metadata": {},
   "outputs": [],
   "source": [
    "sales_df['Major'] = pd.to_numeric(sales_df['Major'], errors='coerce')"
   ]
  },
  {
   "cell_type": "markdown",
   "metadata": {},
   "source": [
    "Did it work?"
   ]
  },
  {
   "cell_type": "code",
   "execution_count": null,
   "metadata": {},
   "outputs": [],
   "source": [
    "sales_df.info()"
   ]
  },
  {
   "cell_type": "markdown",
   "metadata": {},
   "source": [
    "It worked! Let's do the same thing with the `Minor` parcel number."
   ]
  },
  {
   "cell_type": "code",
   "execution_count": 23,
   "metadata": {},
   "outputs": [],
   "source": [
    "sales_df['Minor'] = pd.to_numeric(sales_df['Minor'], errors='coerce')"
   ]
  },
  {
   "cell_type": "code",
   "execution_count": 24,
   "metadata": {},
   "outputs": [
    {
     "name": "stdout",
     "output_type": "stream",
     "text": [
      "<class 'pandas.core.frame.DataFrame'>\n",
      "RangeIndex: 2053214 entries, 0 to 2053213\n",
      "Data columns (total 4 columns):\n",
      "Major           float64\n",
      "Minor           float64\n",
      "DocumentDate    object\n",
      "SalePrice       int64\n",
      "dtypes: float64(2), int64(1), object(1)\n",
      "memory usage: 62.7+ MB\n"
     ]
    }
   ],
   "source": [
    "sales_df.info()"
   ]
  },
  {
   "cell_type": "markdown",
   "metadata": {},
   "source": [
    "Now, let's try our join again."
   ]
  },
  {
   "cell_type": "code",
   "execution_count": 25,
   "metadata": {},
   "outputs": [],
   "source": [
    "sales_data = pd.merge(sales_df, bldg_df, on=['Major', 'Minor'])"
   ]
  },
  {
   "cell_type": "code",
   "execution_count": 26,
   "metadata": {},
   "outputs": [
    {
     "name": "stdout",
     "output_type": "stream",
     "text": [
      "<class 'pandas.core.frame.DataFrame'>\n",
      "Int64Index: 1467779 entries, 0 to 1467778\n",
      "Data columns (total 6 columns):\n",
      "Major            1467779 non-null float64\n",
      "Minor            1467779 non-null float64\n",
      "DocumentDate     1467779 non-null object\n",
      "SalePrice        1467779 non-null int64\n",
      "SqFtTotLiving    1467779 non-null int64\n",
      "ZipCode          1344654 non-null object\n",
      "dtypes: float64(2), int64(2), object(2)\n",
      "memory usage: 78.4+ MB\n"
     ]
    }
   ],
   "source": [
    "sales_data.info()"
   ]
  },
  {
   "cell_type": "markdown",
   "metadata": {},
   "source": [
    "We can see right away that we're missing zip codes for many of the sales transactions. (1321536 non-null entries for ZipCode is fewer than the 1436772 entries in the dataframe.) "
   ]
  },
  {
   "cell_type": "code",
   "execution_count": 27,
   "metadata": {},
   "outputs": [
    {
     "data": {
      "text/html": [
       "<div>\n",
       "<style scoped>\n",
       "    .dataframe tbody tr th:only-of-type {\n",
       "        vertical-align: middle;\n",
       "    }\n",
       "\n",
       "    .dataframe tbody tr th {\n",
       "        vertical-align: top;\n",
       "    }\n",
       "\n",
       "    .dataframe thead th {\n",
       "        text-align: right;\n",
       "    }\n",
       "</style>\n",
       "<table border=\"1\" class=\"dataframe\">\n",
       "  <thead>\n",
       "    <tr style=\"text-align: right;\">\n",
       "      <th></th>\n",
       "      <th>Major</th>\n",
       "      <th>Minor</th>\n",
       "      <th>DocumentDate</th>\n",
       "      <th>SalePrice</th>\n",
       "      <th>SqFtTotLiving</th>\n",
       "      <th>ZipCode</th>\n",
       "    </tr>\n",
       "  </thead>\n",
       "  <tbody>\n",
       "    <tr>\n",
       "      <th>96</th>\n",
       "      <td>334330.0</td>\n",
       "      <td>1343.0</td>\n",
       "      <td>05/30/2006</td>\n",
       "      <td>0</td>\n",
       "      <td>4600</td>\n",
       "      <td>NaN</td>\n",
       "    </tr>\n",
       "    <tr>\n",
       "      <th>97</th>\n",
       "      <td>334330.0</td>\n",
       "      <td>1343.0</td>\n",
       "      <td>05/30/2006</td>\n",
       "      <td>0</td>\n",
       "      <td>4600</td>\n",
       "      <td>NaN</td>\n",
       "    </tr>\n",
       "    <tr>\n",
       "      <th>98</th>\n",
       "      <td>334330.0</td>\n",
       "      <td>1343.0</td>\n",
       "      <td>11/26/2001</td>\n",
       "      <td>0</td>\n",
       "      <td>4600</td>\n",
       "      <td>NaN</td>\n",
       "    </tr>\n",
       "    <tr>\n",
       "      <th>99</th>\n",
       "      <td>334330.0</td>\n",
       "      <td>1343.0</td>\n",
       "      <td>05/30/2006</td>\n",
       "      <td>0</td>\n",
       "      <td>4600</td>\n",
       "      <td>NaN</td>\n",
       "    </tr>\n",
       "    <tr>\n",
       "      <th>100</th>\n",
       "      <td>334330.0</td>\n",
       "      <td>1343.0</td>\n",
       "      <td>06/30/2016</td>\n",
       "      <td>0</td>\n",
       "      <td>4600</td>\n",
       "      <td>NaN</td>\n",
       "    </tr>\n",
       "  </tbody>\n",
       "</table>\n",
       "</div>"
      ],
      "text/plain": [
       "        Major   Minor DocumentDate  SalePrice  SqFtTotLiving ZipCode\n",
       "96   334330.0  1343.0   05/30/2006          0           4600     NaN\n",
       "97   334330.0  1343.0   05/30/2006          0           4600     NaN\n",
       "98   334330.0  1343.0   11/26/2001          0           4600     NaN\n",
       "99   334330.0  1343.0   05/30/2006          0           4600     NaN\n",
       "100  334330.0  1343.0   06/30/2016          0           4600     NaN"
      ]
     },
     "execution_count": 27,
     "metadata": {},
     "output_type": "execute_result"
    }
   ],
   "source": [
    "sales_data.loc[sales_data['ZipCode'].isna()].head()"
   ]
  },
  {
   "cell_type": "markdown",
   "metadata": {},
   "source": [
    "Because we are interested in finding houses in Seattle zip codes, we will need to drop the rows with missing zip codes."
   ]
  },
  {
   "cell_type": "code",
   "execution_count": 31,
   "metadata": {},
   "outputs": [
    {
     "data": {
      "text/html": [
       "<div>\n",
       "<style scoped>\n",
       "    .dataframe tbody tr th:only-of-type {\n",
       "        vertical-align: middle;\n",
       "    }\n",
       "\n",
       "    .dataframe tbody tr th {\n",
       "        vertical-align: top;\n",
       "    }\n",
       "\n",
       "    .dataframe thead th {\n",
       "        text-align: right;\n",
       "    }\n",
       "</style>\n",
       "<table border=\"1\" class=\"dataframe\">\n",
       "  <thead>\n",
       "    <tr style=\"text-align: right;\">\n",
       "      <th></th>\n",
       "      <th>Major</th>\n",
       "      <th>Minor</th>\n",
       "      <th>DocumentDate</th>\n",
       "      <th>SalePrice</th>\n",
       "      <th>SqFtTotLiving</th>\n",
       "      <th>ZipCode</th>\n",
       "    </tr>\n",
       "  </thead>\n",
       "  <tbody>\n",
       "    <tr>\n",
       "      <th>0</th>\n",
       "      <td>138860.0</td>\n",
       "      <td>110.0</td>\n",
       "      <td>08/21/2014</td>\n",
       "      <td>245000</td>\n",
       "      <td>1490</td>\n",
       "      <td>98002</td>\n",
       "    </tr>\n",
       "    <tr>\n",
       "      <th>1</th>\n",
       "      <td>138860.0</td>\n",
       "      <td>110.0</td>\n",
       "      <td>06/12/1989</td>\n",
       "      <td>109300</td>\n",
       "      <td>1490</td>\n",
       "      <td>98002</td>\n",
       "    </tr>\n",
       "    <tr>\n",
       "      <th>2</th>\n",
       "      <td>138860.0</td>\n",
       "      <td>110.0</td>\n",
       "      <td>01/16/2005</td>\n",
       "      <td>14684</td>\n",
       "      <td>1490</td>\n",
       "      <td>98002</td>\n",
       "    </tr>\n",
       "    <tr>\n",
       "      <th>3</th>\n",
       "      <td>138860.0</td>\n",
       "      <td>110.0</td>\n",
       "      <td>06/08/2005</td>\n",
       "      <td>0</td>\n",
       "      <td>1490</td>\n",
       "      <td>98002</td>\n",
       "    </tr>\n",
       "    <tr>\n",
       "      <th>4</th>\n",
       "      <td>423943.0</td>\n",
       "      <td>50.0</td>\n",
       "      <td>10/11/2014</td>\n",
       "      <td>0</td>\n",
       "      <td>960</td>\n",
       "      <td>98092</td>\n",
       "    </tr>\n",
       "  </tbody>\n",
       "</table>\n",
       "</div>"
      ],
      "text/plain": [
       "      Major  Minor DocumentDate  SalePrice  SqFtTotLiving ZipCode\n",
       "0  138860.0  110.0   08/21/2014     245000           1490   98002\n",
       "1  138860.0  110.0   06/12/1989     109300           1490   98002\n",
       "2  138860.0  110.0   01/16/2005      14684           1490   98002\n",
       "3  138860.0  110.0   06/08/2005          0           1490   98002\n",
       "4  423943.0   50.0   10/11/2014          0            960   98092"
      ]
     },
     "execution_count": 31,
     "metadata": {},
     "output_type": "execute_result"
    }
   ],
   "source": [
    "\n",
    "sales_data.loc[~sales_data['ZipCode'].isna(),:].head()\n",
    "# sales_data.head()"
   ]
  },
  {
   "cell_type": "code",
   "execution_count": 32,
   "metadata": {},
   "outputs": [
    {
     "data": {
      "text/plain": [
       "(1467779, 6)"
      ]
     },
     "execution_count": 32,
     "metadata": {},
     "output_type": "execute_result"
    }
   ],
   "source": [
    "# 1334823 homes\n",
    "sales_data.shape"
   ]
  },
  {
   "cell_type": "markdown",
   "metadata": {},
   "source": [
    "# Your turn: Data Cleaning with Pandas\n",
    "![turtletype](https://media3.giphy.com/media/cFdHXXm5GhJsc/giphy.gif?cid=790b76115d3627d8354c7179366b0672&rid=giphy.gif)"
   ]
  },
  {
   "cell_type": "markdown",
   "metadata": {},
   "source": [
    "# 311 Service Requests received by the City of Chicago\n",
    "https://data.cityofchicago.org/Service-Requests/311-Service-Requests/v6vf-nfxy\n",
    "\n",
    "\n",
    "\n",
    "###  Read and Investigate data\n",
    "Use multiple notebook cells to accomplish this! Press `[esc]` then `B` to create a new cell below the current cell. Press `[return]` to start typing in the new cell."
   ]
  },
  {
   "cell_type": "code",
   "execution_count": 33,
   "metadata": {},
   "outputs": [
    {
     "name": "stderr",
     "output_type": "stream",
     "text": [
      "//anaconda3/lib/python3.7/site-packages/IPython/core/interactiveshell.py:3057: DtypeWarning: Columns (9,10,11,12,18,19,28) have mixed types. Specify dtype option on import or set low_memory=False.\n",
      "  interactivity=interactivity, compiler=compiler, result=result)\n"
     ]
    }
   ],
   "source": [
    "df = pd.read_csv('311_Service_Requests.csv')"
   ]
  },
  {
   "cell_type": "code",
   "execution_count": 34,
   "metadata": {},
   "outputs": [
    {
     "data": {
      "text/html": [
       "<div>\n",
       "<style scoped>\n",
       "    .dataframe tbody tr th:only-of-type {\n",
       "        vertical-align: middle;\n",
       "    }\n",
       "\n",
       "    .dataframe tbody tr th {\n",
       "        vertical-align: top;\n",
       "    }\n",
       "\n",
       "    .dataframe thead th {\n",
       "        text-align: right;\n",
       "    }\n",
       "</style>\n",
       "<table border=\"1\" class=\"dataframe\">\n",
       "  <thead>\n",
       "    <tr style=\"text-align: right;\">\n",
       "      <th></th>\n",
       "      <th>SR_NUMBER</th>\n",
       "      <th>SR_TYPE</th>\n",
       "      <th>SR_SHORT_CODE</th>\n",
       "      <th>OWNER_DEPARTMENT</th>\n",
       "      <th>STATUS</th>\n",
       "      <th>CREATED_DATE</th>\n",
       "      <th>LAST_MODIFIED_DATE</th>\n",
       "      <th>CLOSED_DATE</th>\n",
       "      <th>STREET_ADDRESS</th>\n",
       "      <th>CITY</th>\n",
       "      <th>...</th>\n",
       "      <th>PRECINCT</th>\n",
       "      <th>SANITATION_DIVISION_DAYS</th>\n",
       "      <th>CREATED_HOUR</th>\n",
       "      <th>CREATED_DAY_OF_WEEK</th>\n",
       "      <th>CREATED_MONTH</th>\n",
       "      <th>X_COORDINATE</th>\n",
       "      <th>Y_COORDINATE</th>\n",
       "      <th>LATITUDE</th>\n",
       "      <th>LONGITUDE</th>\n",
       "      <th>LOCATION</th>\n",
       "    </tr>\n",
       "  </thead>\n",
       "  <tbody>\n",
       "    <tr>\n",
       "      <th>0</th>\n",
       "      <td>SR19-01170443</td>\n",
       "      <td>Pothole in Street Complaint</td>\n",
       "      <td>PHF</td>\n",
       "      <td>CDOT - Department of Transportation</td>\n",
       "      <td>Completed</td>\n",
       "      <td>03/16/2019 12:30:20 PM</td>\n",
       "      <td>10/17/2019 05:12:48 PM</td>\n",
       "      <td>10/17/2019 05:12:48 PM</td>\n",
       "      <td>NaN</td>\n",
       "      <td>NaN</td>\n",
       "      <td>...</td>\n",
       "      <td>NaN</td>\n",
       "      <td>NaN</td>\n",
       "      <td>12</td>\n",
       "      <td>7</td>\n",
       "      <td>3</td>\n",
       "      <td>NaN</td>\n",
       "      <td>NaN</td>\n",
       "      <td>NaN</td>\n",
       "      <td>NaN</td>\n",
       "      <td>NaN</td>\n",
       "    </tr>\n",
       "    <tr>\n",
       "      <th>1</th>\n",
       "      <td>SR19-01471515</td>\n",
       "      <td>Aircraft Noise Complaint</td>\n",
       "      <td>AVN</td>\n",
       "      <td>Aviation</td>\n",
       "      <td>Completed</td>\n",
       "      <td>05/11/2019 05:46:15 AM</td>\n",
       "      <td>05/11/2019 10:30:23 AM</td>\n",
       "      <td>05/11/2019 05:46:15 AM</td>\n",
       "      <td>NaN</td>\n",
       "      <td>NaN</td>\n",
       "      <td>...</td>\n",
       "      <td>NaN</td>\n",
       "      <td>NaN</td>\n",
       "      <td>5</td>\n",
       "      <td>7</td>\n",
       "      <td>5</td>\n",
       "      <td>NaN</td>\n",
       "      <td>NaN</td>\n",
       "      <td>NaN</td>\n",
       "      <td>NaN</td>\n",
       "      <td>NaN</td>\n",
       "    </tr>\n",
       "    <tr>\n",
       "      <th>2</th>\n",
       "      <td>SR18-00198883</td>\n",
       "      <td>Aircraft Noise Complaint</td>\n",
       "      <td>AVN</td>\n",
       "      <td>Aviation</td>\n",
       "      <td>Completed</td>\n",
       "      <td>12/19/2018 03:39:09 PM</td>\n",
       "      <td>05/16/2019 04:26:56 PM</td>\n",
       "      <td>12/19/2018 03:39:09 PM</td>\n",
       "      <td>NaN</td>\n",
       "      <td>NaN</td>\n",
       "      <td>...</td>\n",
       "      <td>NaN</td>\n",
       "      <td>NaN</td>\n",
       "      <td>15</td>\n",
       "      <td>4</td>\n",
       "      <td>12</td>\n",
       "      <td>NaN</td>\n",
       "      <td>NaN</td>\n",
       "      <td>NaN</td>\n",
       "      <td>NaN</td>\n",
       "      <td>NaN</td>\n",
       "    </tr>\n",
       "    <tr>\n",
       "      <th>3</th>\n",
       "      <td>SR19-01269343</td>\n",
       "      <td>Sewer Cave-In Inspection Request</td>\n",
       "      <td>AAD</td>\n",
       "      <td>DWM - Department of Water Management</td>\n",
       "      <td>Completed</td>\n",
       "      <td>04/04/2019 06:08:12 AM</td>\n",
       "      <td>06/21/2019 03:21:48 PM</td>\n",
       "      <td>06/21/2019 04:55:19 AM</td>\n",
       "      <td>NaN</td>\n",
       "      <td>NaN</td>\n",
       "      <td>...</td>\n",
       "      <td>NaN</td>\n",
       "      <td>NaN</td>\n",
       "      <td>6</td>\n",
       "      <td>5</td>\n",
       "      <td>4</td>\n",
       "      <td>NaN</td>\n",
       "      <td>NaN</td>\n",
       "      <td>NaN</td>\n",
       "      <td>NaN</td>\n",
       "      <td>NaN</td>\n",
       "    </tr>\n",
       "    <tr>\n",
       "      <th>4</th>\n",
       "      <td>SR19-00000214</td>\n",
       "      <td>Aircraft Noise Complaint</td>\n",
       "      <td>AVN</td>\n",
       "      <td>Aviation</td>\n",
       "      <td>Completed</td>\n",
       "      <td>01/01/2019 02:53:44 AM</td>\n",
       "      <td>01/01/2019 07:30:09 AM</td>\n",
       "      <td>01/01/2019 02:53:44 AM</td>\n",
       "      <td>7922 W courtland AVE</td>\n",
       "      <td>NaN</td>\n",
       "      <td>...</td>\n",
       "      <td>NaN</td>\n",
       "      <td>NaN</td>\n",
       "      <td>2</td>\n",
       "      <td>3</td>\n",
       "      <td>1</td>\n",
       "      <td>NaN</td>\n",
       "      <td>NaN</td>\n",
       "      <td>NaN</td>\n",
       "      <td>NaN</td>\n",
       "      <td>NaN</td>\n",
       "    </tr>\n",
       "  </tbody>\n",
       "</table>\n",
       "<p>5 rows × 37 columns</p>\n",
       "</div>"
      ],
      "text/plain": [
       "       SR_NUMBER                           SR_TYPE SR_SHORT_CODE  \\\n",
       "0  SR19-01170443       Pothole in Street Complaint           PHF   \n",
       "1  SR19-01471515          Aircraft Noise Complaint           AVN   \n",
       "2  SR18-00198883          Aircraft Noise Complaint           AVN   \n",
       "3  SR19-01269343  Sewer Cave-In Inspection Request           AAD   \n",
       "4  SR19-00000214          Aircraft Noise Complaint           AVN   \n",
       "\n",
       "                       OWNER_DEPARTMENT     STATUS            CREATED_DATE  \\\n",
       "0   CDOT - Department of Transportation  Completed  03/16/2019 12:30:20 PM   \n",
       "1                              Aviation  Completed  05/11/2019 05:46:15 AM   \n",
       "2                              Aviation  Completed  12/19/2018 03:39:09 PM   \n",
       "3  DWM - Department of Water Management  Completed  04/04/2019 06:08:12 AM   \n",
       "4                              Aviation  Completed  01/01/2019 02:53:44 AM   \n",
       "\n",
       "       LAST_MODIFIED_DATE             CLOSED_DATE        STREET_ADDRESS CITY  \\\n",
       "0  10/17/2019 05:12:48 PM  10/17/2019 05:12:48 PM                   NaN  NaN   \n",
       "1  05/11/2019 10:30:23 AM  05/11/2019 05:46:15 AM                   NaN  NaN   \n",
       "2  05/16/2019 04:26:56 PM  12/19/2018 03:39:09 PM                   NaN  NaN   \n",
       "3  06/21/2019 03:21:48 PM  06/21/2019 04:55:19 AM                   NaN  NaN   \n",
       "4  01/01/2019 07:30:09 AM  01/01/2019 02:53:44 AM  7922 W courtland AVE  NaN   \n",
       "\n",
       "   ... PRECINCT SANITATION_DIVISION_DAYS CREATED_HOUR CREATED_DAY_OF_WEEK  \\\n",
       "0  ...      NaN                      NaN           12                   7   \n",
       "1  ...      NaN                      NaN            5                   7   \n",
       "2  ...      NaN                      NaN           15                   4   \n",
       "3  ...      NaN                      NaN            6                   5   \n",
       "4  ...      NaN                      NaN            2                   3   \n",
       "\n",
       "  CREATED_MONTH X_COORDINATE  Y_COORDINATE  LATITUDE LONGITUDE LOCATION  \n",
       "0             3          NaN           NaN       NaN       NaN      NaN  \n",
       "1             5          NaN           NaN       NaN       NaN      NaN  \n",
       "2            12          NaN           NaN       NaN       NaN      NaN  \n",
       "3             4          NaN           NaN       NaN       NaN      NaN  \n",
       "4             1          NaN           NaN       NaN       NaN      NaN  \n",
       "\n",
       "[5 rows x 37 columns]"
      ]
     },
     "execution_count": 34,
     "metadata": {},
     "output_type": "execute_result"
    }
   ],
   "source": [
    "df.head()"
   ]
  },
  {
   "cell_type": "code",
   "execution_count": 35,
   "metadata": {},
   "outputs": [
    {
     "name": "stdout",
     "output_type": "stream",
     "text": [
      "<class 'pandas.core.frame.DataFrame'>\n",
      "RangeIndex: 1996543 entries, 0 to 1996542\n",
      "Data columns (total 37 columns):\n",
      "SR_NUMBER                   object\n",
      "SR_TYPE                     object\n",
      "SR_SHORT_CODE               object\n",
      "OWNER_DEPARTMENT            object\n",
      "STATUS                      object\n",
      "CREATED_DATE                object\n",
      "LAST_MODIFIED_DATE          object\n",
      "CLOSED_DATE                 object\n",
      "STREET_ADDRESS              object\n",
      "CITY                        object\n",
      "STATE                       object\n",
      "ZIP_CODE                    object\n",
      "STREET_NUMBER               object\n",
      "STREET_DIRECTION            object\n",
      "STREET_NAME                 object\n",
      "STREET_TYPE                 object\n",
      "DUPLICATE                   bool\n",
      "LEGACY_RECORD               bool\n",
      "LEGACY_SR_NUMBER            object\n",
      "PARENT_SR_NUMBER            object\n",
      "COMMUNITY_AREA              float64\n",
      "WARD                        float64\n",
      "ELECTRICAL_DISTRICT         float64\n",
      "ELECTRICITY_GRID            object\n",
      "POLICE_SECTOR               float64\n",
      "POLICE_DISTRICT             float64\n",
      "POLICE_BEAT                 float64\n",
      "PRECINCT                    float64\n",
      "SANITATION_DIVISION_DAYS    object\n",
      "CREATED_HOUR                int64\n",
      "CREATED_DAY_OF_WEEK         int64\n",
      "CREATED_MONTH               int64\n",
      "X_COORDINATE                float64\n",
      "Y_COORDINATE                float64\n",
      "LATITUDE                    float64\n",
      "LONGITUDE                   float64\n",
      "LOCATION                    object\n",
      "dtypes: bool(2), float64(11), int64(3), object(21)\n",
      "memory usage: 536.9+ MB\n"
     ]
    }
   ],
   "source": [
    "df.info()"
   ]
  },
  {
   "cell_type": "markdown",
   "metadata": {},
   "source": [
    "##### Create new df with the following columns:\n",
    "    'SR_NUMBER', 'SR_TYPE', 'SR_SHORT_CODE', 'OWNER_DEPARTMENT', 'STATUS',\n",
    "       'CREATED_DATE', 'LAST_MODIFIED_DATE', 'LOCATION','CITY', 'LATITUDE']]"
   ]
  },
  {
   "cell_type": "code",
   "execution_count": 36,
   "metadata": {},
   "outputs": [],
   "source": [
    "city_df = df[['SR_NUMBER', 'SR_TYPE', 'SR_SHORT_CODE', 'OWNER_DEPARTMENT', 'STATUS',\n",
    "   'CREATED_DATE', 'LAST_MODIFIED_DATE', 'LOCATION','CITY', 'LATITUDE']]"
   ]
  },
  {
   "cell_type": "code",
   "execution_count": 38,
   "metadata": {},
   "outputs": [
    {
     "data": {
      "text/html": [
       "<div>\n",
       "<style scoped>\n",
       "    .dataframe tbody tr th:only-of-type {\n",
       "        vertical-align: middle;\n",
       "    }\n",
       "\n",
       "    .dataframe tbody tr th {\n",
       "        vertical-align: top;\n",
       "    }\n",
       "\n",
       "    .dataframe thead th {\n",
       "        text-align: right;\n",
       "    }\n",
       "</style>\n",
       "<table border=\"1\" class=\"dataframe\">\n",
       "  <thead>\n",
       "    <tr style=\"text-align: right;\">\n",
       "      <th></th>\n",
       "      <th>SR_NUMBER</th>\n",
       "      <th>SR_TYPE</th>\n",
       "      <th>SR_SHORT_CODE</th>\n",
       "      <th>OWNER_DEPARTMENT</th>\n",
       "      <th>STATUS</th>\n",
       "      <th>CREATED_DATE</th>\n",
       "      <th>LAST_MODIFIED_DATE</th>\n",
       "      <th>LOCATION</th>\n",
       "      <th>CITY</th>\n",
       "      <th>LATITUDE</th>\n",
       "    </tr>\n",
       "  </thead>\n",
       "  <tbody>\n",
       "    <tr>\n",
       "      <th>0</th>\n",
       "      <td>SR19-01170443</td>\n",
       "      <td>Pothole in Street Complaint</td>\n",
       "      <td>PHF</td>\n",
       "      <td>CDOT - Department of Transportation</td>\n",
       "      <td>Completed</td>\n",
       "      <td>03/16/2019 12:30:20 PM</td>\n",
       "      <td>10/17/2019 05:12:48 PM</td>\n",
       "      <td>NaN</td>\n",
       "      <td>NaN</td>\n",
       "      <td>NaN</td>\n",
       "    </tr>\n",
       "    <tr>\n",
       "      <th>1</th>\n",
       "      <td>SR19-01471515</td>\n",
       "      <td>Aircraft Noise Complaint</td>\n",
       "      <td>AVN</td>\n",
       "      <td>Aviation</td>\n",
       "      <td>Completed</td>\n",
       "      <td>05/11/2019 05:46:15 AM</td>\n",
       "      <td>05/11/2019 10:30:23 AM</td>\n",
       "      <td>NaN</td>\n",
       "      <td>NaN</td>\n",
       "      <td>NaN</td>\n",
       "    </tr>\n",
       "    <tr>\n",
       "      <th>2</th>\n",
       "      <td>SR18-00198883</td>\n",
       "      <td>Aircraft Noise Complaint</td>\n",
       "      <td>AVN</td>\n",
       "      <td>Aviation</td>\n",
       "      <td>Completed</td>\n",
       "      <td>12/19/2018 03:39:09 PM</td>\n",
       "      <td>05/16/2019 04:26:56 PM</td>\n",
       "      <td>NaN</td>\n",
       "      <td>NaN</td>\n",
       "      <td>NaN</td>\n",
       "    </tr>\n",
       "    <tr>\n",
       "      <th>3</th>\n",
       "      <td>SR19-01269343</td>\n",
       "      <td>Sewer Cave-In Inspection Request</td>\n",
       "      <td>AAD</td>\n",
       "      <td>DWM - Department of Water Management</td>\n",
       "      <td>Completed</td>\n",
       "      <td>04/04/2019 06:08:12 AM</td>\n",
       "      <td>06/21/2019 03:21:48 PM</td>\n",
       "      <td>NaN</td>\n",
       "      <td>NaN</td>\n",
       "      <td>NaN</td>\n",
       "    </tr>\n",
       "    <tr>\n",
       "      <th>4</th>\n",
       "      <td>SR19-00000214</td>\n",
       "      <td>Aircraft Noise Complaint</td>\n",
       "      <td>AVN</td>\n",
       "      <td>Aviation</td>\n",
       "      <td>Completed</td>\n",
       "      <td>01/01/2019 02:53:44 AM</td>\n",
       "      <td>01/01/2019 07:30:09 AM</td>\n",
       "      <td>NaN</td>\n",
       "      <td>NaN</td>\n",
       "      <td>NaN</td>\n",
       "    </tr>\n",
       "  </tbody>\n",
       "</table>\n",
       "</div>"
      ],
      "text/plain": [
       "       SR_NUMBER                           SR_TYPE SR_SHORT_CODE  \\\n",
       "0  SR19-01170443       Pothole in Street Complaint           PHF   \n",
       "1  SR19-01471515          Aircraft Noise Complaint           AVN   \n",
       "2  SR18-00198883          Aircraft Noise Complaint           AVN   \n",
       "3  SR19-01269343  Sewer Cave-In Inspection Request           AAD   \n",
       "4  SR19-00000214          Aircraft Noise Complaint           AVN   \n",
       "\n",
       "                       OWNER_DEPARTMENT     STATUS            CREATED_DATE  \\\n",
       "0   CDOT - Department of Transportation  Completed  03/16/2019 12:30:20 PM   \n",
       "1                              Aviation  Completed  05/11/2019 05:46:15 AM   \n",
       "2                              Aviation  Completed  12/19/2018 03:39:09 PM   \n",
       "3  DWM - Department of Water Management  Completed  04/04/2019 06:08:12 AM   \n",
       "4                              Aviation  Completed  01/01/2019 02:53:44 AM   \n",
       "\n",
       "       LAST_MODIFIED_DATE LOCATION CITY  LATITUDE  \n",
       "0  10/17/2019 05:12:48 PM      NaN  NaN       NaN  \n",
       "1  05/11/2019 10:30:23 AM      NaN  NaN       NaN  \n",
       "2  05/16/2019 04:26:56 PM      NaN  NaN       NaN  \n",
       "3  06/21/2019 03:21:48 PM      NaN  NaN       NaN  \n",
       "4  01/01/2019 07:30:09 AM      NaN  NaN       NaN  "
      ]
     },
     "execution_count": 38,
     "metadata": {},
     "output_type": "execute_result"
    }
   ],
   "source": [
    "city_df.head()"
   ]
  },
  {
   "cell_type": "markdown",
   "metadata": {},
   "source": [
    "### Investigate and handle missing values\n",
    "\n",
    "What's the right thing to do with missing values?"
   ]
  },
  {
   "cell_type": "code",
   "execution_count": 41,
   "metadata": {},
   "outputs": [
    {
     "data": {
      "text/plain": [
       "SR_NUMBER                   0\n",
       "SR_TYPE                     0\n",
       "SR_SHORT_CODE               0\n",
       "OWNER_DEPARTMENT            0\n",
       "STATUS                      0\n",
       "CREATED_DATE                0\n",
       "LAST_MODIFIED_DATE          0\n",
       "LOCATION                24467\n",
       "CITY                  1003596\n",
       "LATITUDE                24467\n",
       "dtype: int64"
      ]
     },
     "execution_count": 41,
     "metadata": {},
     "output_type": "execute_result"
    }
   ],
   "source": [
    "city_df.isnull().sum()"
   ]
  },
  {
   "cell_type": "code",
   "execution_count": 60,
   "metadata": {},
   "outputs": [],
   "source": [
    "city_df['CITY']= city_df['CITY'].fillna('Chicago')"
   ]
  },
  {
   "cell_type": "code",
   "execution_count": 61,
   "metadata": {
    "scrolled": true
   },
   "outputs": [
    {
     "data": {
      "text/plain": [
       "Chicago    1551635\n",
       "CHICAGO     420441\n",
       "Name: CITY, dtype: int64"
      ]
     },
     "execution_count": 61,
     "metadata": {},
     "output_type": "execute_result"
    }
   ],
   "source": [
    "city_df['CITY'].value_counts()"
   ]
  },
  {
   "cell_type": "code",
   "execution_count": 63,
   "metadata": {},
   "outputs": [],
   "source": [
    "city_df['CITY']  = city_df['CITY'].str.upper()"
   ]
  },
  {
   "cell_type": "code",
   "execution_count": 57,
   "metadata": {},
   "outputs": [
    {
     "name": "stderr",
     "output_type": "stream",
     "text": [
      "//anaconda3/lib/python3.7/site-packages/ipykernel_launcher.py:2: SettingWithCopyWarning: \n",
      "A value is trying to be set on a copy of a slice from a DataFrame.\n",
      "Try using .loc[row_indexer,col_indexer] = value instead\n",
      "\n",
      "See the caveats in the documentation: http://pandas.pydata.org/pandas-docs/stable/indexing.html#indexing-view-versus-copy\n",
      "  \n"
     ]
    }
   ],
   "source": [
    "#value_map = {'ST': 'CHICAGO', 'Chicago':'CHICAGO'}\n",
    "#city_df['CITY']= city_df['CITY'].map(value_map)"
   ]
  },
  {
   "cell_type": "code",
   "execution_count": 64,
   "metadata": {},
   "outputs": [],
   "source": [
    "city_df = city_df.dropna(how ='any', subset=['LOCATION'])"
   ]
  },
  {
   "cell_type": "code",
   "execution_count": 65,
   "metadata": {
    "scrolled": true
   },
   "outputs": [
    {
     "data": {
      "text/plain": [
       "SR_NUMBER             0\n",
       "SR_TYPE               0\n",
       "SR_SHORT_CODE         0\n",
       "OWNER_DEPARTMENT      0\n",
       "STATUS                0\n",
       "CREATED_DATE          0\n",
       "LAST_MODIFIED_DATE    0\n",
       "LOCATION              0\n",
       "CITY                  0\n",
       "LATITUDE              0\n",
       "dtype: int64"
      ]
     },
     "execution_count": 65,
     "metadata": {},
     "output_type": "execute_result"
    }
   ],
   "source": [
    "city_df.isnull().sum()"
   ]
  },
  {
   "cell_type": "code",
   "execution_count": 53,
   "metadata": {},
   "outputs": [
    {
     "data": {
      "text/html": [
       "<div>\n",
       "<style scoped>\n",
       "    .dataframe tbody tr th:only-of-type {\n",
       "        vertical-align: middle;\n",
       "    }\n",
       "\n",
       "    .dataframe tbody tr th {\n",
       "        vertical-align: top;\n",
       "    }\n",
       "\n",
       "    .dataframe thead th {\n",
       "        text-align: right;\n",
       "    }\n",
       "</style>\n",
       "<table border=\"1\" class=\"dataframe\">\n",
       "  <thead>\n",
       "    <tr style=\"text-align: right;\">\n",
       "      <th></th>\n",
       "      <th>SR_NUMBER</th>\n",
       "      <th>SR_TYPE</th>\n",
       "      <th>SR_SHORT_CODE</th>\n",
       "      <th>OWNER_DEPARTMENT</th>\n",
       "      <th>STATUS</th>\n",
       "      <th>CREATED_DATE</th>\n",
       "      <th>LAST_MODIFIED_DATE</th>\n",
       "      <th>LOCATION</th>\n",
       "      <th>CITY</th>\n",
       "      <th>LATITUDE</th>\n",
       "    </tr>\n",
       "  </thead>\n",
       "  <tbody>\n",
       "    <tr>\n",
       "      <th>269</th>\n",
       "      <td>SR19-02557532</td>\n",
       "      <td>Tree Trim Request</td>\n",
       "      <td>SEF</td>\n",
       "      <td>Streets and Sanitation</td>\n",
       "      <td>Open</td>\n",
       "      <td>09/23/2019 06:08:42 PM</td>\n",
       "      <td>09/23/2019 06:30:48 PM</td>\n",
       "      <td>(41.74056604192535, -87.73285499812488)</td>\n",
       "      <td>CHICAGO</td>\n",
       "      <td>41.740566</td>\n",
       "    </tr>\n",
       "    <tr>\n",
       "      <th>552</th>\n",
       "      <td>SR19-02557557</td>\n",
       "      <td>Pothole in Street Complaint</td>\n",
       "      <td>PHF</td>\n",
       "      <td>CDOT - Department of Transportation</td>\n",
       "      <td>Open</td>\n",
       "      <td>09/23/2019 06:13:16 PM</td>\n",
       "      <td>10/03/2019 02:15:58 PM</td>\n",
       "      <td>(41.879477495788485, -87.76370588423917)</td>\n",
       "      <td>CHICAGO</td>\n",
       "      <td>41.879477</td>\n",
       "    </tr>\n",
       "    <tr>\n",
       "      <th>593</th>\n",
       "      <td>SR19-02557561</td>\n",
       "      <td>Traffic Signal Out Complaint</td>\n",
       "      <td>SFB</td>\n",
       "      <td>CDOT - Department of Transportation</td>\n",
       "      <td>Canceled</td>\n",
       "      <td>09/23/2019 06:14:29 PM</td>\n",
       "      <td>09/23/2019 06:32:43 PM</td>\n",
       "      <td>(41.790554672786406, -87.58295123759538)</td>\n",
       "      <td>CHICAGO</td>\n",
       "      <td>41.790555</td>\n",
       "    </tr>\n",
       "    <tr>\n",
       "      <th>603</th>\n",
       "      <td>SR18-00172475</td>\n",
       "      <td>Street Light Out Complaint</td>\n",
       "      <td>SFD</td>\n",
       "      <td>CDOT - Department of Transportation</td>\n",
       "      <td>Completed</td>\n",
       "      <td>10/17/2018 08:23:32 PM</td>\n",
       "      <td>06/11/2019 05:30:32 PM</td>\n",
       "      <td>(41.88618996, -87.63473263)</td>\n",
       "      <td>NaN</td>\n",
       "      <td>41.886190</td>\n",
       "    </tr>\n",
       "    <tr>\n",
       "      <th>605</th>\n",
       "      <td>SR18-00187585</td>\n",
       "      <td>Street Light Out Complaint</td>\n",
       "      <td>SFD</td>\n",
       "      <td>CDOT - Department of Transportation</td>\n",
       "      <td>Completed</td>\n",
       "      <td>12/05/2018 01:11:33 PM</td>\n",
       "      <td>06/11/2019 05:30:33 PM</td>\n",
       "      <td>(41.88512814, -87.63424049)</td>\n",
       "      <td>NaN</td>\n",
       "      <td>41.885128</td>\n",
       "    </tr>\n",
       "  </tbody>\n",
       "</table>\n",
       "</div>"
      ],
      "text/plain": [
       "         SR_NUMBER                       SR_TYPE SR_SHORT_CODE  \\\n",
       "269  SR19-02557532             Tree Trim Request           SEF   \n",
       "552  SR19-02557557   Pothole in Street Complaint           PHF   \n",
       "593  SR19-02557561  Traffic Signal Out Complaint           SFB   \n",
       "603  SR18-00172475    Street Light Out Complaint           SFD   \n",
       "605  SR18-00187585    Street Light Out Complaint           SFD   \n",
       "\n",
       "                        OWNER_DEPARTMENT     STATUS            CREATED_DATE  \\\n",
       "269               Streets and Sanitation       Open  09/23/2019 06:08:42 PM   \n",
       "552  CDOT - Department of Transportation       Open  09/23/2019 06:13:16 PM   \n",
       "593  CDOT - Department of Transportation   Canceled  09/23/2019 06:14:29 PM   \n",
       "603  CDOT - Department of Transportation  Completed  10/17/2018 08:23:32 PM   \n",
       "605  CDOT - Department of Transportation  Completed  12/05/2018 01:11:33 PM   \n",
       "\n",
       "         LAST_MODIFIED_DATE                                  LOCATION  \\\n",
       "269  09/23/2019 06:30:48 PM   (41.74056604192535, -87.73285499812488)   \n",
       "552  10/03/2019 02:15:58 PM  (41.879477495788485, -87.76370588423917)   \n",
       "593  09/23/2019 06:32:43 PM  (41.790554672786406, -87.58295123759538)   \n",
       "603  06/11/2019 05:30:32 PM               (41.88618996, -87.63473263)   \n",
       "605  06/11/2019 05:30:33 PM               (41.88512814, -87.63424049)   \n",
       "\n",
       "        CITY   LATITUDE  \n",
       "269  CHICAGO  41.740566  \n",
       "552  CHICAGO  41.879477  \n",
       "593  CHICAGO  41.790555  \n",
       "603      NaN  41.886190  \n",
       "605      NaN  41.885128  "
      ]
     },
     "execution_count": 53,
     "metadata": {},
     "output_type": "execute_result"
    }
   ],
   "source": [
    "city_df.head()"
   ]
  },
  {
   "cell_type": "markdown",
   "metadata": {},
   "source": [
    "### Find out top 3 service types"
   ]
  },
  {
   "cell_type": "code",
   "execution_count": 50,
   "metadata": {},
   "outputs": [
    {
     "data": {
      "text/plain": [
       "311 INFORMATION ONLY CALL     477804\n",
       "Aircraft Noise Complaint      298652\n",
       "Street Light Out Complaint    124477\n",
       "Name: SR_TYPE, dtype: int64"
      ]
     },
     "execution_count": 50,
     "metadata": {},
     "output_type": "execute_result"
    }
   ],
   "source": [
    "city_df['SR_TYPE'].value_counts().head(3)"
   ]
  },
  {
   "cell_type": "code",
   "execution_count": null,
   "metadata": {},
   "outputs": [],
   "source": [
    "/Users/ssadalgekar/Desktop/chi-102819/chicago-102819/module_1/week_2/day_2/data/Sales"
   ]
  },
  {
   "cell_type": "markdown",
   "metadata": {},
   "source": [
    "## Pair Programming:\n",
    "    \n",
    "For these exercises, we will be practicing pair programming. \n",
    "While we work through these exercises, choose who will code and who will supervise.\n",
    "I.E., one person types, and the other suggests the appropriate direction to head in.\n"
   ]
  },
  {
   "cell_type": "markdown",
   "metadata": {},
   "source": [
    "### In-class Exercise: \n",
    "Think about 2 questions each person and use city_df to answer your questions\n"
   ]
  },
  {
   "cell_type": "markdown",
   "metadata": {},
   "source": [
    "## After class : \n",
    "### Turning code into a script\n",
    "\n",
    "#### make a new .py file\n",
    "- open a new `.py` file _or_ open a new jupyter notbook and export as a `.py` file so we can start to edit the `.py` file directly\n",
    "- save the file as `mean_ppsf_seattle.py`\n",
    "- look at all your code between `sales_df = pd.read_csv('data/Real Property Sales.zip')` and question `number 6` above\n",
    "\n",
    "#### review & organize your code\n",
    "- _organize_ your code in the `mean_ppsf_seattle.py` to start with `sales_df = pd.read_csv('data/Real Property Sales.zip')` and end with printing out the mean price per square foot for a house sold in seattle in 2019\n",
    "- the code should be able to run without throwing any errors\n",
    "- remember to include `import pandas as pd` and any other necessary statements at the start of your script\n",
    "\n",
    "#### test your script\n",
    "- go to the terminal\n",
    "- make sure you are in the same directory path as your jupyter notebook and the `.py` file\n",
    "- in the terminal type and then run `python mean_ppsf_seattle.py`\n",
    "- confirm the script returns in terminal what you wanted it to return\n",
    "\n",
    "\n",
    "![anykey](https://media2.giphy.com/media/26BGIqWh2R1fi6JDa/giphy.gif?cid=790b76115d3627d8354c7179366b0672&rid=giphy.gif)"
   ]
  },
  {
   "cell_type": "code",
   "execution_count": null,
   "metadata": {},
   "outputs": [],
   "source": []
  }
 ],
 "metadata": {
  "kernelspec": {
   "display_name": "Python 3",
   "language": "python",
   "name": "python3"
  },
  "language_info": {
   "codemirror_mode": {
    "name": "ipython",
    "version": 3
   },
   "file_extension": ".py",
   "mimetype": "text/x-python",
   "name": "python",
   "nbconvert_exporter": "python",
   "pygments_lexer": "ipython3",
   "version": "3.7.3"
  }
 },
 "nbformat": 4,
 "nbformat_minor": 2
}
