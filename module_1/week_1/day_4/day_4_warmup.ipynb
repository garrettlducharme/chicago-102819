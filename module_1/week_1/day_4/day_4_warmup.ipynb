{
 "cells": [
  {
   "cell_type": "markdown",
   "metadata": {},
   "source": [
    "FOR loops"
   ]
  },
  {
   "cell_type": "code",
   "execution_count": 6,
   "metadata": {},
   "outputs": [
    {
     "name": "stdout",
     "output_type": "stream",
     "text": [
      "This\n",
      "is\n",
      "how\n",
      "you\n",
      "print\n",
      "out\n",
      "a\n",
      "list\n"
     ]
    }
   ],
   "source": [
    "#Create a for loop to print out the elements of this list\n",
    "\n",
    "list1 = ['This', 'is', 'how', 'you', 'print', 'out', 'a', 'list']\n",
    "\n",
    "for word in list1:\n",
    "    print(word)"
   ]
  },
  {
   "cell_type": "code",
   "execution_count": 7,
   "metadata": {},
   "outputs": [
    {
     "name": "stdout",
     "output_type": "stream",
     "text": [
      "10\n"
     ]
    }
   ],
   "source": [
    "#Use a for loop to find the sum of the integers in this string:\n",
    "\n",
    "num_string = '1234'\n",
    "\n",
    "total = 0\n",
    "for num in num_string:\n",
    "    total += int(num)\n",
    "    \n",
    "print(total)"
   ]
  },
  {
   "cell_type": "markdown",
   "metadata": {},
   "source": [
    "IF-Else statements"
   ]
  },
  {
   "cell_type": "code",
   "execution_count": 8,
   "metadata": {},
   "outputs": [
    {
     "name": "stdout",
     "output_type": "stream",
     "text": [
      "is\n",
      "a\n",
      "of\n"
     ]
    }
   ],
   "source": [
    "#Write an if statement that prints out a word if it begins with a vowel\n",
    "\n",
    "sentc = \"This is a sentence of various words!\"\n",
    "sentc = sentc.lower()\n",
    "\n",
    "for string in sentc.split():\n",
    "    if(string.startswith(('a', 'e', 'i', 'o', 'u'))):\n",
    "        print(string)\n"
   ]
  },
  {
   "cell_type": "code",
   "execution_count": 9,
   "metadata": {},
   "outputs": [
    {
     "name": "stdout",
     "output_type": "stream",
     "text": [
      "BANG\n",
      "is\n",
      "a\n",
      "BANG\n",
      "of\n",
      "BANG\n",
      "BANG\n"
     ]
    }
   ],
   "source": [
    "#Find a way to print out a word if it begins with a vowel, but print 'BANG' otherwise\n",
    "for string in sentc.split():\n",
    "    if(string.startswith(('a', 'e', 'i', 'o', 'u'))):\n",
    "        print(string)\n",
    "    else:\n",
    "        print('BANG')"
   ]
  },
  {
   "cell_type": "markdown",
   "metadata": {},
   "source": [
    "Advanced Loops"
   ]
  },
  {
   "cell_type": "markdown",
   "metadata": {},
   "source": [
    "Write a program that allows a user to find the average of a specific number of integers/float\n",
    "It should:\n",
    "\n",
    "1. Ask for the number of integers/floats you wish to find the average of\n",
    "2. Users should be ble to enter in numbers following a prompt.\n",
    "3. If the average is greater than 100, the program shoultd print out \n",
    "  \"WOW, that's a great average!\". If it's between 100 and 50, print 'That's an okay average.'\n",
    "    Otherwise, it should print 'Eh, not a great average'\n",
    "4. If the initial input is 0, the program shoudl immediately exit."
   ]
  },
  {
   "cell_type": "code",
   "execution_count": 13,
   "metadata": {},
   "outputs": [
    {
     "name": "stdout",
     "output_type": "stream",
     "text": [
      "How many numbers will you be summming up?  --> 3\n",
      "Which numbers will you be summing up? (separate by space) -->1 2 3\n",
      "2.0, Eh, not a great average\n"
     ]
    }
   ],
   "source": [
    "num_of_num = int(input(\"How many numbers will you be summming up?  --> \"))\n",
    "if(num_of_num == 0 or num_of_num < 0):\n",
    "    raise Exception(\"The average of nothing is nothing\")\n",
    "\n",
    "list_of_num = input(\"Which numbers will you be summing up? (separate by space) -->\")\n",
    "list_of_num = [float(num) for num in list_of_num.split()]\n",
    "\n",
    "average = sum(list_of_num)/num_of_num\n",
    "\n",
    "if(average > 100):\n",
    "    print(str(average) + \", WOW, that's a great average!\")\n",
    "elif(average >= 50 and average <= 100):\n",
    "    print(str(average) + \", That's an okay average\")\n",
    "else:\n",
    "    print(str(average) + \", Eh, not a great average\")"
   ]
  },
  {
   "cell_type": "markdown",
   "metadata": {},
   "source": [
    "Lists "
   ]
  },
  {
   "cell_type": "markdown",
   "metadata": {},
   "source": [
    " Amend the last program so that it stores the numbers in a list as opposed to adding each succesive number to the sum. Often, we want to hold the our data for later use. Try calculating the sum of the list's elements without using the sum() method. Your program's  out should look something like this:\n",
    "\n",
    "'The average of:\n",
    "1\n",
    "2\n",
    "3\n",
    "7\n",
    "is 3.25.'"
   ]
  },
  {
   "cell_type": "code",
   "execution_count": null,
   "metadata": {},
   "outputs": [],
   "source": [
    "num_of_num = int(input(\"How many numbers will you be summming up?  --> \"))\n",
    "num_list = []\n",
    "\n"
   ]
  }
 ],
 "metadata": {
  "kernelspec": {
   "display_name": "Python 3",
   "language": "python",
   "name": "python3"
  },
  "language_info": {
   "codemirror_mode": {
    "name": "ipython",
    "version": 3
   },
   "file_extension": ".py",
   "mimetype": "text/x-python",
   "name": "python",
   "nbconvert_exporter": "python",
   "pygments_lexer": "ipython3",
   "version": "3.6.9"
  }
 },
 "nbformat": 4,
 "nbformat_minor": 4
}
