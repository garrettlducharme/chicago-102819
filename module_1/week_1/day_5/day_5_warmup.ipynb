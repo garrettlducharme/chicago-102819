{
 "cells": [
  {
   "cell_type": "markdown",
   "metadata": {},
   "source": [
    "Ndarrays, Indexing, and Slicing"
   ]
  },
  {
   "cell_type": "code",
   "execution_count": 15,
   "metadata": {},
   "outputs": [
    {
     "data": {
      "text/plain": [
       "array([[1, 1, 1, 1],\n",
       "       [1, 1, 1, 1],\n",
       "       [1, 1, 1, 1],\n",
       "       [1, 1, 1, 1]])"
      ]
     },
     "execution_count": 15,
     "metadata": {},
     "output_type": "execute_result"
    }
   ],
   "source": [
    "#Start by importing the numpy and pandas library\n",
    "\n",
    "import numpy as np\n",
    "import pandas as pd\n",
    "\n",
    "#Try creating a 4 row x 4 column array of integers\n",
    "int_ar1 = np.ones((4,4), dtype = int)\n",
    "int_ar1"
   ]
  },
  {
   "cell_type": "code",
   "execution_count": 16,
   "metadata": {},
   "outputs": [],
   "source": [
    "#let's try altering this array. First, let's save a sopy of this array\n",
    "int_ar2 = int_ar1.copy()"
   ]
  },
  {
   "cell_type": "code",
   "execution_count": 17,
   "metadata": {},
   "outputs": [
    {
     "data": {
      "text/plain": [
       "array([[2, 2, 2, 2],\n",
       "       [1, 1, 1, 1],\n",
       "       [1, 1, 1, 1],\n",
       "       [1, 1, 1, 1]])"
      ]
     },
     "execution_count": 17,
     "metadata": {},
     "output_type": "execute_result"
    }
   ],
   "source": [
    "#Next, let's change the entire first row to twos (2)\n",
    "int_ar2[0,:] = np.ones(4, dtype = int)*2\n",
    "int_ar2"
   ]
  },
  {
   "cell_type": "code",
   "execution_count": 18,
   "metadata": {},
   "outputs": [
    {
     "data": {
      "text/plain": [
       "array([[10,  2,  2,  2],\n",
       "       [ 1, 10,  1,  1],\n",
       "       [ 1,  1, 10,  1],\n",
       "       [ 1,  1,  1, 10]])"
      ]
     },
     "execution_count": 18,
     "metadata": {},
     "output_type": "execute_result"
    }
   ],
   "source": [
    "#With some for loops, we can more dynamically change our arrays. \n",
    "# Change the diagonal to a new number.\n",
    "np.fill_diagonal(int_ar2, 10)\n",
    "int_ar2\n"
   ]
  },
  {
   "cell_type": "code",
   "execution_count": 19,
   "metadata": {},
   "outputs": [
    {
     "data": {
      "text/plain": [
       "array([[20,  4,  4,  4],\n",
       "       [ 2, 20,  2,  2],\n",
       "       [ 2,  2, 20,  2],\n",
       "       [ 2,  2,  2, 20]])"
      ]
     },
     "execution_count": 19,
     "metadata": {},
     "output_type": "execute_result"
    }
   ],
   "source": [
    "#We can also change the contents of an array through arithmetic procedures.\n",
    "# Multiply the values by some number.\n",
    "int_ar2*2"
   ]
  },
  {
   "cell_type": "code",
   "execution_count": 20,
   "metadata": {
    "scrolled": true
   },
   "outputs": [
    {
     "data": {
      "text/plain": [
       "array([[ 5, -3, -3, -3],\n",
       "       [-4,  5, -4, -4],\n",
       "       [-4, -4,  5, -4],\n",
       "       [-4, -4, -4,  5]])"
      ]
     },
     "execution_count": 20,
     "metadata": {},
     "output_type": "execute_result"
    }
   ],
   "source": [
    "int_ar2 - 5"
   ]
  },
  {
   "cell_type": "markdown",
   "metadata": {},
   "source": [
    "Arrays and Matrices"
   ]
  },
  {
   "cell_type": "code",
   "execution_count": 22,
   "metadata": {},
   "outputs": [
    {
     "data": {
      "text/plain": [
       "(4, 4)"
      ]
     },
     "execution_count": 22,
     "metadata": {},
     "output_type": "execute_result"
    }
   ],
   "source": [
    "#Confirm that the array is 4x4\n",
    "#Remembers, arrays are given by ----> # of rows X # of columns.\n",
    "int_ar2.shape"
   ]
  },
  {
   "cell_type": "code",
   "execution_count": 24,
   "metadata": {},
   "outputs": [
    {
     "data": {
      "text/plain": [
       "array([[1., 1., 1., 1., 1.],\n",
       "       [1., 1., 1., 1., 1.],\n",
       "       [1., 1., 1., 1., 1.],\n",
       "       [1., 1., 1., 1., 1.],\n",
       "       [1., 1., 1., 1., 1.]])"
      ]
     },
     "execution_count": 24,
     "metadata": {},
     "output_type": "execute_result"
    }
   ],
   "source": [
    "#Okay, now try and create a 5 x 5 array of ones\n",
    "float_ar1 = np.ones((5,5))\n",
    "float_ar1"
   ]
  },
  {
   "cell_type": "code",
   "execution_count": 25,
   "metadata": {},
   "outputs": [],
   "source": [
    "#Create 3 identity matrices of any size\n",
    "eye_ar1 = np.eye(2)\n",
    "eye_ar2 = np.eye(3)\n",
    "eye_ar3 = np.eye(4)"
   ]
  },
  {
   "cell_type": "code",
   "execution_count": 26,
   "metadata": {},
   "outputs": [
    {
     "data": {
      "text/plain": [
       "array([[1., 0.],\n",
       "       [0., 1.]])"
      ]
     },
     "execution_count": 26,
     "metadata": {},
     "output_type": "execute_result"
    }
   ],
   "source": [
    "eye_ar1"
   ]
  },
  {
   "cell_type": "code",
   "execution_count": 27,
   "metadata": {},
   "outputs": [
    {
     "data": {
      "text/plain": [
       "array([[1., 0., 0.],\n",
       "       [0., 1., 0.],\n",
       "       [0., 0., 1.]])"
      ]
     },
     "execution_count": 27,
     "metadata": {},
     "output_type": "execute_result"
    }
   ],
   "source": [
    "eye_ar2"
   ]
  },
  {
   "cell_type": "code",
   "execution_count": 28,
   "metadata": {},
   "outputs": [
    {
     "data": {
      "text/plain": [
       "array([[1., 0., 0., 0.],\n",
       "       [0., 1., 0., 0.],\n",
       "       [0., 0., 1., 0.],\n",
       "       [0., 0., 0., 1.]])"
      ]
     },
     "execution_count": 28,
     "metadata": {},
     "output_type": "execute_result"
    }
   ],
   "source": [
    "eye_ar3"
   ]
  },
  {
   "cell_type": "markdown",
   "metadata": {},
   "source": [
    "## Quick List Comprehension/Lambda function Exercises"
   ]
  },
  {
   "cell_type": "code",
   "execution_count": 11,
   "metadata": {},
   "outputs": [],
   "source": [
    "# 1\n",
    "# make a list comprehension which filters the even numbers \n",
    "#out of the following numpy array: np.arange(1,100,3)"
   ]
  },
  {
   "cell_type": "code",
   "execution_count": 30,
   "metadata": {},
   "outputs": [
    {
     "data": {
      "text/plain": [
       "[1, 7, 13, 19, 25, 31, 37, 43, 49, 55, 61, 67, 73, 79, 85, 91, 97]"
      ]
     },
     "execution_count": 30,
     "metadata": {},
     "output_type": "execute_result"
    }
   ],
   "source": [
    "[x for x in np.arange(1,100,3) if x%2]"
   ]
  },
  {
   "cell_type": "code",
   "execution_count": 42,
   "metadata": {},
   "outputs": [
    {
     "name": "stdout",
     "output_type": "stream",
     "text": [
      "['John', 'Ringo', 'Paul', 'George', 'Ringo', 'George', 'Paul', 'John', 'Ringo']\n"
     ]
    }
   ],
   "source": [
    "# 2 for the following mispelled list of Beatles, write a function correct_beatles,\n",
    "# then use the built-in map function to create a corrected list of Beatles.\n",
    "\n",
    "beatle_list = ['John', 'Rango', 'Pal', 'Geoge', \n",
    "               'Rungo', 'Gage', 'Pul', 'Jonathan', 'Mike']\n",
    "\n",
    "def correct_beatles(name):\n",
    "    beatle_dict = {'J': 'John', 'R': 'Ringo', 'P': 'Paul', 'G': 'George'}\n",
    "    \n",
    "    for letter in beatle_dict:\n",
    "        if(name.startswith(str(letter))):\n",
    "            name = beatle_dict[letter]\n",
    "            break\n",
    "    #If the name ends up not being close to one of the Beatle members, change it to a random Beatle member\n",
    "    if(name not in list(beatle_dict.values())):\n",
    "        name = np.random.choice(['Paul', 'Ringo', 'George', 'John'], 1 , replace = False)[0]\n",
    "            \n",
    "    return name\n",
    "        \n",
    "correct_list = map(correct_beatles, beatle_list)\n",
    "print(list(correct_list))"
   ]
  },
  {
   "cell_type": "code",
   "execution_count": null,
   "metadata": {},
   "outputs": [],
   "source": []
  },
  {
   "cell_type": "code",
   "execution_count": null,
   "metadata": {},
   "outputs": [],
   "source": []
  }
 ],
 "metadata": {
  "kernelspec": {
   "display_name": "Python 3",
   "language": "python",
   "name": "python3"
  },
  "language_info": {
   "codemirror_mode": {
    "name": "ipython",
    "version": 3
   },
   "file_extension": ".py",
   "mimetype": "text/x-python",
   "name": "python",
   "nbconvert_exporter": "python",
   "pygments_lexer": "ipython3",
   "version": "3.6.9"
  }
 },
 "nbformat": 4,
 "nbformat_minor": 4
}
